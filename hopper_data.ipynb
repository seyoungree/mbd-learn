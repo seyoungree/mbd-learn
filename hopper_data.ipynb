{
  "nbformat": 4,
  "nbformat_minor": 0,
  "metadata": {
    "colab": {
      "provenance": [],
      "gpuType": "T4"
    },
    "kernelspec": {
      "name": "python3",
      "display_name": "Python 3"
    },
    "language_info": {
      "name": "python"
    },
    "accelerator": "GPU"
  },
  "cells": [
    {
      "cell_type": "code",
      "execution_count": 1,
      "metadata": {
        "colab": {
          "base_uri": "https://localhost:8080/"
        },
        "id": "960znfKxkI62",
        "outputId": "38986b57-b353-402e-d2a9-174bea8c65b2"
      },
      "outputs": [
        {
          "output_type": "stream",
          "name": "stdout",
          "text": [
            "\u001b[2K     \u001b[90m━━━━━━━━━━━━━━━━━━━━━━━━━━━━━━━━━━━━━━━━\u001b[0m \u001b[32m44.4/44.4 kB\u001b[0m \u001b[31m1.2 MB/s\u001b[0m eta \u001b[36m0:00:00\u001b[0m\n",
            "\u001b[2K   \u001b[90m━━━━━━━━━━━━━━━━━━━━━━━━━━━━━━━━━━━━━━━━\u001b[0m \u001b[32m14.2/14.2 MB\u001b[0m \u001b[31m48.5 MB/s\u001b[0m eta \u001b[36m0:00:00\u001b[0m\n",
            "\u001b[2K   \u001b[90m━━━━━━━━━━━━━━━━━━━━━━━━━━━━━━━━━━━━━━━━\u001b[0m \u001b[32m124.3/124.3 kB\u001b[0m \u001b[31m10.6 MB/s\u001b[0m eta \u001b[36m0:00:00\u001b[0m\n",
            "\u001b[2K   \u001b[90m━━━━━━━━━━━━━━━━━━━━━━━━━━━━━━━━━━━━━━━━\u001b[0m \u001b[32m172.4/172.4 kB\u001b[0m \u001b[31m11.3 MB/s\u001b[0m eta \u001b[36m0:00:00\u001b[0m\n",
            "\u001b[2K   \u001b[90m━━━━━━━━━━━━━━━━━━━━━━━━━━━━━━━━━━━━━━━━\u001b[0m \u001b[32m76.7/76.7 kB\u001b[0m \u001b[31m5.1 MB/s\u001b[0m eta \u001b[36m0:00:00\u001b[0m\n",
            "\u001b[2K   \u001b[90m━━━━━━━━━━━━━━━━━━━━━━━━━━━━━━━━━━━━━━━━\u001b[0m \u001b[32m6.6/6.6 MB\u001b[0m \u001b[31m45.1 MB/s\u001b[0m eta \u001b[36m0:00:00\u001b[0m\n",
            "\u001b[2K   \u001b[90m━━━━━━━━━━━━━━━━━━━━━━━━━━━━━━━━━━━━━━━━\u001b[0m \u001b[32m6.7/6.7 MB\u001b[0m \u001b[31m34.4 MB/s\u001b[0m eta \u001b[36m0:00:00\u001b[0m\n",
            "\u001b[2K   \u001b[90m━━━━━━━━━━━━━━━━━━━━━━━━━━━━━━━━━━━━━━━━\u001b[0m \u001b[32m1.9/1.9 MB\u001b[0m \u001b[31m20.8 MB/s\u001b[0m eta \u001b[36m0:00:00\u001b[0m\n",
            "\u001b[2K   \u001b[90m━━━━━━━━━━━━━━━━━━━━━━━━━━━━━━━━━━━━━━━━\u001b[0m \u001b[32m101.7/101.7 kB\u001b[0m \u001b[31m3.8 MB/s\u001b[0m eta \u001b[36m0:00:00\u001b[0m\n",
            "\u001b[2K   \u001b[90m━━━━━━━━━━━━━━━━━━━━━━━━━━━━━━━━━━━━━━━━\u001b[0m \u001b[32m709.3/709.3 kB\u001b[0m \u001b[31m34.2 MB/s\u001b[0m eta \u001b[36m0:00:00\u001b[0m\n",
            "\u001b[2K   \u001b[90m━━━━━━━━━━━━━━━━━━━━━━━━━━━━━━━━━━━━━━━━\u001b[0m \u001b[32m243.5/243.5 kB\u001b[0m \u001b[31m11.0 MB/s\u001b[0m eta \u001b[36m0:00:00\u001b[0m\n",
            "\u001b[?25h"
          ]
        }
      ],
      "source": [
        "!pip install -q brax tyro flax optax"
      ]
    },
    {
      "cell_type": "code",
      "source": [
        "import jax\n",
        "import jax.numpy as jnp\n",
        "import numpy as np\n",
        "import functools\n",
        "import time\n",
        "from brax.training.agents.sac.train import train as sac_train\n",
        "from brax import envs\n",
        "from brax.io import html"
      ],
      "metadata": {
        "id": "YCX2TMp9kjJ1"
      },
      "execution_count": 2,
      "outputs": []
    },
    {
      "cell_type": "code",
      "source": [
        "def progress_fn(num_steps, metrics):\n",
        "    reward = metrics.get(\"eval/episode_reward\", float('nan'))\n",
        "    print(f\"[{num_steps} steps] Eval reward: {reward:.2f}\")"
      ],
      "metadata": {
        "id": "j4IgA0bzkk6B"
      },
      "execution_count": 3,
      "outputs": []
    },
    {
      "cell_type": "code",
      "source": [
        "def train_fn(environment, progress_fn=None):\n",
        "    return sac_train(\n",
        "        environment=environment,\n",
        "        progress_fn=progress_fn,\n",
        "        num_timesteps=1_000_000,\n",
        "        num_evals=50,\n",
        "        episode_length=1000,\n",
        "        normalize_observations=True,\n",
        "        reward_scaling=30,\n",
        "        action_repeat=1,\n",
        "        discounting=0.997,\n",
        "        learning_rate=6e-4,\n",
        "        num_envs=128,\n",
        "        batch_size=512,\n",
        "        grad_updates_per_step=64,\n",
        "        seed=1\n",
        "    )\n"
      ],
      "metadata": {
        "id": "kGVWw8OhkmlI"
      },
      "execution_count": 4,
      "outputs": []
    },
    {
      "cell_type": "code",
      "source": [
        "env = envs.create('hopper')\n",
        "make_inference_fn, params, _ = train_fn(environment=env, progress_fn=progress_fn)\n",
        "inference_fn = make_inference_fn(params)\n",
        "\n",
        "jit_reset = jax.jit(env.reset)\n",
        "jit_step = jax.jit(env.step)\n",
        "jit_infer = jax.jit(inference_fn)"
      ],
      "metadata": {
        "colab": {
          "base_uri": "https://localhost:8080/"
        },
        "id": "i6ZXXDClkn2P",
        "outputId": "4d5091b7-34a6-4113-b29a-d2e5979843cb"
      },
      "execution_count": 5,
      "outputs": [
        {
          "output_type": "stream",
          "name": "stdout",
          "text": [
            "[0 steps] Eval reward: 13.84\n",
            "[20480 steps] Eval reward: 197.52\n",
            "[40960 steps] Eval reward: 201.06\n",
            "[61440 steps] Eval reward: 26.85\n",
            "[81920 steps] Eval reward: 498.81\n",
            "[102400 steps] Eval reward: 484.50\n",
            "[122880 steps] Eval reward: 493.93\n",
            "[143360 steps] Eval reward: 494.91\n",
            "[163840 steps] Eval reward: 474.12\n",
            "[184320 steps] Eval reward: 511.02\n",
            "[204800 steps] Eval reward: 571.46\n",
            "[225280 steps] Eval reward: 271.98\n",
            "[245760 steps] Eval reward: 575.11\n",
            "[266240 steps] Eval reward: 512.23\n",
            "[286720 steps] Eval reward: 530.68\n",
            "[307200 steps] Eval reward: 483.63\n",
            "[327680 steps] Eval reward: 538.22\n",
            "[348160 steps] Eval reward: 603.31\n",
            "[368640 steps] Eval reward: 500.64\n",
            "[389120 steps] Eval reward: 569.72\n",
            "[409600 steps] Eval reward: 530.24\n",
            "[430080 steps] Eval reward: 651.09\n",
            "[450560 steps] Eval reward: 622.69\n",
            "[471040 steps] Eval reward: 713.74\n",
            "[491520 steps] Eval reward: 527.45\n",
            "[512000 steps] Eval reward: 721.07\n",
            "[532480 steps] Eval reward: 531.54\n",
            "[552960 steps] Eval reward: 619.03\n",
            "[573440 steps] Eval reward: 656.56\n",
            "[593920 steps] Eval reward: 804.83\n",
            "[614400 steps] Eval reward: 554.69\n",
            "[634880 steps] Eval reward: 830.09\n",
            "[655360 steps] Eval reward: 896.23\n",
            "[675840 steps] Eval reward: 783.11\n",
            "[696320 steps] Eval reward: 970.62\n",
            "[716800 steps] Eval reward: 698.68\n",
            "[737280 steps] Eval reward: 939.50\n",
            "[757760 steps] Eval reward: 613.80\n",
            "[778240 steps] Eval reward: 598.53\n",
            "[798720 steps] Eval reward: 926.77\n",
            "[819200 steps] Eval reward: 997.53\n",
            "[839680 steps] Eval reward: 785.19\n",
            "[860160 steps] Eval reward: 889.83\n",
            "[880640 steps] Eval reward: 513.84\n",
            "[901120 steps] Eval reward: 1077.49\n",
            "[921600 steps] Eval reward: 1286.22\n",
            "[942080 steps] Eval reward: 840.51\n",
            "[962560 steps] Eval reward: 494.86\n",
            "[983040 steps] Eval reward: 919.98\n",
            "[1003520 steps] Eval reward: 497.64\n"
          ]
        }
      ]
    },
    {
      "cell_type": "code",
      "source": [
        "contexts = []\n",
        "trajectories = []\n",
        "\n",
        "num_trajectories = 1000\n",
        "horizon = 50\n",
        "rng = jax.random.PRNGKey(0)\n",
        "\n",
        "for i in range(num_trajectories):\n",
        "    rng, rollout_rng = jax.random.split(rng)\n",
        "    state = jit_reset(rollout_rng)\n",
        "    initial_obs = state.obs\n",
        "    traj = []\n",
        "\n",
        "    for _ in range(horizon):\n",
        "        rollout_rng, act_rng = jax.random.split(rollout_rng)\n",
        "        action, _ = jit_infer(state.obs, act_rng)\n",
        "        traj.append(action)\n",
        "        state = jit_step(state, action)\n",
        "\n",
        "    context = initial_obs\n",
        "    contexts.append(np.array(context))\n",
        "    trajectories.append(np.array(jnp.stack(traj)))\n",
        "\n",
        "    if i % 10 == 0:\n",
        "        print(f\"Collected {i}/{num_trajectories}\")"
      ],
      "metadata": {
        "colab": {
          "base_uri": "https://localhost:8080/"
        },
        "id": "2BE6LpG1MkuC",
        "outputId": "12b29f44-3f1c-4669-cdc1-3bd8d1c5cb87"
      },
      "execution_count": 7,
      "outputs": [
        {
          "output_type": "stream",
          "name": "stdout",
          "text": [
            "Collected 0/1000\n",
            "Collected 10/1000\n",
            "Collected 20/1000\n",
            "Collected 30/1000\n",
            "Collected 40/1000\n",
            "Collected 50/1000\n",
            "Collected 60/1000\n",
            "Collected 70/1000\n",
            "Collected 80/1000\n",
            "Collected 90/1000\n",
            "Collected 100/1000\n",
            "Collected 110/1000\n",
            "Collected 120/1000\n",
            "Collected 130/1000\n",
            "Collected 140/1000\n",
            "Collected 150/1000\n",
            "Collected 160/1000\n",
            "Collected 170/1000\n",
            "Collected 180/1000\n",
            "Collected 190/1000\n",
            "Collected 200/1000\n",
            "Collected 210/1000\n",
            "Collected 220/1000\n",
            "Collected 230/1000\n",
            "Collected 240/1000\n",
            "Collected 250/1000\n",
            "Collected 260/1000\n",
            "Collected 270/1000\n",
            "Collected 280/1000\n",
            "Collected 290/1000\n",
            "Collected 300/1000\n",
            "Collected 310/1000\n",
            "Collected 320/1000\n",
            "Collected 330/1000\n",
            "Collected 340/1000\n",
            "Collected 350/1000\n",
            "Collected 360/1000\n",
            "Collected 370/1000\n",
            "Collected 380/1000\n",
            "Collected 390/1000\n",
            "Collected 400/1000\n",
            "Collected 410/1000\n",
            "Collected 420/1000\n",
            "Collected 430/1000\n",
            "Collected 440/1000\n",
            "Collected 450/1000\n",
            "Collected 460/1000\n",
            "Collected 470/1000\n",
            "Collected 480/1000\n",
            "Collected 490/1000\n",
            "Collected 500/1000\n",
            "Collected 510/1000\n",
            "Collected 520/1000\n",
            "Collected 530/1000\n",
            "Collected 540/1000\n",
            "Collected 550/1000\n",
            "Collected 560/1000\n",
            "Collected 570/1000\n",
            "Collected 580/1000\n",
            "Collected 590/1000\n",
            "Collected 600/1000\n",
            "Collected 610/1000\n",
            "Collected 620/1000\n",
            "Collected 630/1000\n",
            "Collected 640/1000\n",
            "Collected 650/1000\n",
            "Collected 660/1000\n",
            "Collected 670/1000\n",
            "Collected 680/1000\n",
            "Collected 690/1000\n",
            "Collected 700/1000\n",
            "Collected 710/1000\n",
            "Collected 720/1000\n",
            "Collected 730/1000\n",
            "Collected 740/1000\n",
            "Collected 750/1000\n",
            "Collected 760/1000\n",
            "Collected 770/1000\n",
            "Collected 780/1000\n",
            "Collected 790/1000\n",
            "Collected 800/1000\n",
            "Collected 810/1000\n",
            "Collected 820/1000\n",
            "Collected 830/1000\n",
            "Collected 840/1000\n",
            "Collected 850/1000\n",
            "Collected 860/1000\n",
            "Collected 870/1000\n",
            "Collected 880/1000\n",
            "Collected 890/1000\n",
            "Collected 900/1000\n",
            "Collected 910/1000\n",
            "Collected 920/1000\n",
            "Collected 930/1000\n",
            "Collected 940/1000\n",
            "Collected 950/1000\n",
            "Collected 960/1000\n",
            "Collected 970/1000\n",
            "Collected 980/1000\n",
            "Collected 990/1000\n"
          ]
        }
      ]
    },
    {
      "cell_type": "code",
      "source": [
        "np.savez(\"proposal_dataset_hopper.npz\", contexts=np.stack(contexts), trajectories=np.stack(trajectories))\n",
        "print(\"✅ Dataset saved: proposal_dataset_hopper.npz\")"
      ],
      "metadata": {
        "colab": {
          "base_uri": "https://localhost:8080/"
        },
        "id": "WCMxoelWkp0p",
        "outputId": "2e64955d-337f-443f-dd11-7b0c4b73aff8"
      },
      "execution_count": 8,
      "outputs": [
        {
          "output_type": "stream",
          "name": "stdout",
          "text": [
            "✅ Dataset saved: proposal_dataset_hopper.npz\n"
          ]
        }
      ]
    },
    {
      "cell_type": "code",
      "source": [],
      "metadata": {
        "id": "UGwzW-f9TtU1"
      },
      "execution_count": null,
      "outputs": []
    }
  ]
}